{
 "cells": [
  {
   "cell_type": "markdown",
   "metadata": {},
   "source": [
    "# Introduction"
   ]
  },
  {
   "cell_type": "markdown",
   "metadata": {},
   "source": [
    "## Présentation"
   ]
  },
  {
   "cell_type": "markdown",
   "metadata": {},
   "source": [
    "Redis est une base de données NoSQL qui se classe dans la catégorie \"data structure server\". C'est  un système permettant de traiter, de manière très performante, des données sous la forme clés/valeurs. Cette performance est obtenue car les données sont stockées directement sur la mémoire RAM. Cela permet d'accéder très facilement et très rapidement aux données \n",
    "\n",
    "La clé permet de récupérer et d'identifier de manière unique la donnée. Redis ne permet pas de stocker des modèles de données très complexes, il faut donc ruser pour créer une structure de données complète et complexe.\n",
    "\n",
    "Redis est souvent utilisé dans le developpement web pour gérer les sessions utilisateurs, leur panier, leurs configurations. En outre, lorsqu'on stocke une petite quantité de donnée et qu'on a besoin d'y accèder en quelques milliseconds"
   ]
  },
  {
   "cell_type": "markdown",
   "metadata": {},
   "source": [
    "## Les données "
   ]
  },
  {
   "cell_type": "markdown",
   "metadata": {},
   "source": [
    "\n",
    "\n",
    "Les valeurs peuvent appartenir aux types suivants :\n",
    "\n",
    "- chaînes de caractères\n",
    "- compteurs numériques (les données numériques seront stockées dans la base sous la forme de chaîne de caractères)\n",
    "- listes \n",
    "- sets ou sets ordonnés\n",
    "- dictionnaires"
   ]
  },
  {
   "cell_type": "markdown",
   "metadata": {},
   "source": [
    "## Lancer un container Redis\n",
    "\n",
    "Comme pour Mongo, il nous faut une instance redis qui tourne en local, pour se faire il suffit de lancer un container Redis\n",
    "\n",
    "Vous devriez être familier avec Docker maintenant, à vous de jouer pour lancer ce container !"
   ]
  },
  {
   "cell_type": "markdown",
   "metadata": {},
   "source": [
    "## Installation"
   ]
  },
  {
   "cell_type": "markdown",
   "metadata": {},
   "source": [
    "Le package Redis pour python est déjà installé, voici la commande si jamais :\n",
    "\n",
    "`pipenv install redis==5.0.8`"
   ]
  },
  {
   "cell_type": "markdown",
   "metadata": {},
   "source": [
    "# Let's play"
   ]
  },
  {
   "cell_type": "code",
   "execution_count": 1,
   "metadata": {
    "ExecuteTime": {
     "end_time": "2024-10-08T14:21:53.502196Z",
     "start_time": "2024-10-08T14:21:53.500653Z"
    }
   },
   "outputs": [],
   "source": [
    "import redis"
   ]
  },
  {
   "cell_type": "code",
   "execution_count": 2,
   "metadata": {
    "ExecuteTime": {
     "end_time": "2024-10-08T14:21:54.122091Z",
     "start_time": "2024-10-08T14:21:54.120410Z"
    }
   },
   "outputs": [],
   "source": [
    "redis_client = redis.StrictRedis(host='localhost')"
   ]
  },
  {
   "cell_type": "markdown",
   "metadata": {},
   "source": [
    "Pour tester la connexion on peut pinguer la base de données :"
   ]
  },
  {
   "cell_type": "code",
   "execution_count": 3,
   "metadata": {
    "ExecuteTime": {
     "end_time": "2024-10-08T14:21:55.326224Z",
     "start_time": "2024-10-08T14:21:55.320800Z"
    }
   },
   "outputs": [
    {
     "data": {
      "text/plain": [
       "True"
      ]
     },
     "execution_count": 3,
     "metadata": {},
     "output_type": "execute_result"
    }
   ],
   "source": [
    "redis_client.ping()"
   ]
  },
  {
   "cell_type": "markdown",
   "metadata": {},
   "source": [
    "Vous pouvez regarder toutes les configurations utilisées par Redis, beaucoup ne sont pas utiles à notre niveau, mais vous pouvez voir par exemple, `database`, `maxclients`, `port` , `timeout` qui peuvent être utile de modifier pour différentes applications"
   ]
  },
  {
   "cell_type": "code",
   "execution_count": 4,
   "metadata": {
    "ExecuteTime": {
     "end_time": "2024-10-08T14:22:14.960500Z",
     "start_time": "2024-10-08T14:22:14.953653Z"
    }
   },
   "outputs": [
    {
     "data": {
      "text/plain": [
       "{'tls-cert-file': '',\n",
       " 'proto-max-bulk-len': '536870912',\n",
       " 'replica-ignore-disk-write-errors': 'no',\n",
       " 'cluster-allow-pubsubshard-when-down': 'yes',\n",
       " 'save': '3600 1 300 100 60 10000',\n",
       " 'lazyfree-lazy-eviction': 'no',\n",
       " 'slave-ignore-maxmemory': 'yes',\n",
       " 'cluster-allow-replica-migration': 'yes',\n",
       " 'lua-time-limit': '5000',\n",
       " 'cluster-replica-no-failover': 'no',\n",
       " 'aof-rewrite-cpulist': '',\n",
       " 'tls-session-caching': 'yes',\n",
       " 'repl-diskless-load': 'disabled',\n",
       " 'replicaof': '',\n",
       " 'disable-thp': 'yes',\n",
       " 'cluster-announce-ip': '',\n",
       " 'tcp-backlog': '511',\n",
       " 'cluster-config-file': 'nodes.conf',\n",
       " 'no-appendfsync-on-rewrite': 'no',\n",
       " 'tls-protocols': '',\n",
       " 'tracking-table-max-keys': '1000000',\n",
       " 'shutdown-on-sigint': 'default',\n",
       " 'server_cpulist': '',\n",
       " 'tls-ciphersuites': '',\n",
       " 'rdb-save-incremental-fsync': 'yes',\n",
       " 'lazyfree-lazy-server-del': 'no',\n",
       " 'lazyfree-lazy-user-del': 'no',\n",
       " 'active-expire-effort': '1',\n",
       " 'hz': '10',\n",
       " 'slave-priority': '100',\n",
       " 'set-proc-title': 'yes',\n",
       " 'server-cpulist': '',\n",
       " 'bio-cpulist': '',\n",
       " 'cluster-replica-validity-factor': '10',\n",
       " 'lfu-decay-time': '1',\n",
       " 'enable-module-command': 'no',\n",
       " 'repl-ping-replica-period': '10',\n",
       " 'hash-max-ziplist-value': '64',\n",
       " 'lazyfree-lazy-expire': 'no',\n",
       " 'appendonly': 'no',\n",
       " 'unixsocketperm': '0',\n",
       " 'auto-aof-rewrite-min-size': '67108864',\n",
       " 'zset-max-listpack-value': '64',\n",
       " 'tls-cluster': 'no',\n",
       " 'io-threads-do-reads': 'no',\n",
       " 'locale-collate': '',\n",
       " 'aof-use-rdb-preamble': 'yes',\n",
       " 'cluster-announce-hostname': '',\n",
       " 'bind-source-addr': '',\n",
       " 'tls-client-cert-file': '',\n",
       " 'tls-session-cache-size': '20480',\n",
       " 'latency-tracking-info-percentiles': '50 99 99.9',\n",
       " 'bgsave_cpulist': '',\n",
       " 'io-threads': '1',\n",
       " 'tls-client-key-file-pass': '',\n",
       " 'max-new-tls-connections-per-cycle': '1',\n",
       " 'tls-ca-cert-dir': '',\n",
       " 'pidfile': '',\n",
       " 'set-max-intset-entries': '512',\n",
       " 'min-slaves-to-write': '0',\n",
       " 'crash-memcheck-enabled': 'yes',\n",
       " 'aclfile': '',\n",
       " 'hash-max-ziplist-entries': '512',\n",
       " 'zset-max-ziplist-entries': '128',\n",
       " 'hll-sparse-max-bytes': '3000',\n",
       " 'rdbchecksum': 'yes',\n",
       " 'tls-replication': 'no',\n",
       " 'replica-priority': '100',\n",
       " 'oom-score-adj': 'no',\n",
       " 'replica-read-only': 'yes',\n",
       " 'tcp-keepalive': '300',\n",
       " 'cluster-migration-barrier': '1',\n",
       " 'crash-log-enabled': 'yes',\n",
       " 'client-query-buffer-limit': '1073741824',\n",
       " 'appendfilename': 'appendonly.aof',\n",
       " 'slowlog-max-len': '128',\n",
       " 'cluster-enabled': 'no',\n",
       " 'active-defrag-ignore-bytes': '104857600',\n",
       " 'maxmemory-samples': '5',\n",
       " 'repl-disable-tcp-nodelay': 'no',\n",
       " 'replica-announced': 'yes',\n",
       " 'repl-diskless-sync-max-replicas': '0',\n",
       " 'replica-serve-stale-data': 'yes',\n",
       " 'list-max-ziplist-size': '-2',\n",
       " 'bgsave-cpulist': '',\n",
       " 'tls-port': '0',\n",
       " 'repl-diskless-sync': 'yes',\n",
       " 'dynamic-hz': 'yes',\n",
       " 'rdbcompression': 'yes',\n",
       " 'tls-ciphers': '',\n",
       " 'tls-auth-clients': 'yes',\n",
       " 'repl-diskless-sync-delay': '5',\n",
       " 'cluster-slave-no-failover': 'no',\n",
       " 'hide-user-data-from-log': 'no',\n",
       " 'min-replicas-to-write': '0',\n",
       " 'bio_cpulist': '',\n",
       " 'slave-read-only': 'yes',\n",
       " 'tls-session-cache-timeout': '300',\n",
       " 'bind': '* -::*',\n",
       " 'syslog-facility': 'local0',\n",
       " 'masteruser': '',\n",
       " 'zset-max-ziplist-value': '64',\n",
       " 'slave-announce-port': '0',\n",
       " 'maxmemory-eviction-tenacity': '10',\n",
       " 'logfile': '',\n",
       " 'cluster-node-timeout': '15000',\n",
       " 'active-defrag-threshold-lower': '10',\n",
       " 'tls-key-file': '',\n",
       " 'slave-serve-stale-data': 'yes',\n",
       " 'replica-ignore-maxmemory': 'yes',\n",
       " 'lfu-log-factor': '10',\n",
       " 'replica-announce-ip': '',\n",
       " 'repl-timeout': '60',\n",
       " 'syslog-ident': 'redis',\n",
       " 'dbfilename': 'dump.rdb',\n",
       " 'databases': '16',\n",
       " 'aof_rewrite_cpulist': '',\n",
       " 'replica-lazy-flush': 'no',\n",
       " 'acl-pubsub-default': 'resetchannels',\n",
       " 'tls-dh-params-file': '',\n",
       " 'active-defrag-max-scan-fields': '1000',\n",
       " 'repl-backlog-size': '1048576',\n",
       " 'slowlog-log-slower-than': '10000',\n",
       " 'repl-ping-slave-period': '10',\n",
       " 'active-defrag-cycle-min': '1',\n",
       " 'cluster-announce-bus-port': '0',\n",
       " 'aof-rewrite-incremental-fsync': 'yes',\n",
       " 'tls-key-file-pass': '',\n",
       " 'enable-debug-command': 'no',\n",
       " 'aof-timestamp-enabled': 'no',\n",
       " 'appenddirname': 'appendonlydir',\n",
       " 'max-new-connections-per-cycle': '10',\n",
       " 'tls-prefer-server-ciphers': 'no',\n",
       " 'loglevel': 'notice',\n",
       " 'slave-lazy-flush': 'no',\n",
       " 'active-defrag-cycle-max': '25',\n",
       " 'acllog-max-len': '128',\n",
       " 'notify-keyspace-events': '',\n",
       " 'shutdown-timeout': '10',\n",
       " 'min-slaves-max-lag': '10',\n",
       " 'latency-monitor-threshold': '0',\n",
       " 'replica-announce-port': '0',\n",
       " 'protected-mode': 'no',\n",
       " 'activedefrag': 'no',\n",
       " 'maxclients': '10000',\n",
       " 'cluster-link-sendbuf-limit': '0',\n",
       " 'proc-title-template': '{title} {listen-addr} {server-mode}',\n",
       " 'enable-protected-configs': 'no',\n",
       " 'hash-max-listpack-value': '64',\n",
       " 'client-output-buffer-limit': 'normal 0 0 0 slave 268435456 67108864 60 pubsub 33554432 8388608 60',\n",
       " 'cluster-port': '0',\n",
       " 'cluster-announce-port': '0',\n",
       " 'port': '6379',\n",
       " 'busy-reply-threshold': '5000',\n",
       " 'syslog-enabled': 'no',\n",
       " 'shutdown-on-sigterm': 'default',\n",
       " 'hash-max-listpack-entries': '512',\n",
       " 'set-max-listpack-entries': '128',\n",
       " 'sanitize-dump-payload': 'no',\n",
       " 'stop-writes-on-bgsave-error': 'yes',\n",
       " 'aof-load-truncated': 'yes',\n",
       " 'always-show-logo': 'no',\n",
       " 'tls-ca-cert-file': '',\n",
       " 'slave-announce-ip': '',\n",
       " 'propagation-error-behavior': 'ignore',\n",
       " 'cluster-announce-human-nodename': '',\n",
       " 'tls-client-key-file': '',\n",
       " 'cluster-preferred-endpoint-type': 'ip',\n",
       " 'appendfsync': 'everysec',\n",
       " 'daemonize': 'no',\n",
       " 'cluster-announce-tls-port': '0',\n",
       " 'activerehashing': 'yes',\n",
       " 'active-defrag-threshold-upper': '100',\n",
       " 'maxmemory-clients': '0',\n",
       " 'slaveof': '',\n",
       " 'requirepass': '',\n",
       " 'auto-aof-rewrite-percentage': '100',\n",
       " 'stream-node-max-bytes': '4096',\n",
       " 'unixsocket': '',\n",
       " 'repl-backlog-ttl': '3600',\n",
       " 'list-compress-depth': '0',\n",
       " 'jemalloc-bg-thread': 'yes',\n",
       " 'ignore-warnings': '',\n",
       " 'rdb-del-sync-files': 'no',\n",
       " 'cluster-require-full-coverage': 'yes',\n",
       " 'dir': '/data',\n",
       " 'masterauth': '',\n",
       " 'min-replicas-max-lag': '10',\n",
       " 'zset-max-listpack-entries': '128',\n",
       " 'set-max-listpack-value': '64',\n",
       " 'list-max-listpack-size': '-2',\n",
       " 'maxmemory-policy': 'noeviction',\n",
       " 'socket-mark-id': '0',\n",
       " 'oom-score-adj-values': '0 200 800',\n",
       " 'latency-tracking': 'yes',\n",
       " 'supervised': 'no',\n",
       " 'maxmemory': '0',\n",
       " 'lazyfree-lazy-user-flush': 'no',\n",
       " 'cluster-allow-reads-when-down': 'no',\n",
       " 'timeout': '0',\n",
       " 'cluster-slave-validity-factor': '10',\n",
       " 'stream-node-max-entries': '100'}"
      ]
     },
     "execution_count": 4,
     "metadata": {},
     "output_type": "execute_result"
    }
   ],
   "source": [
    "redis_client.config_get()"
   ]
  },
  {
   "cell_type": "markdown",
   "metadata": {},
   "source": [
    "## Stockage clé valeurs"
   ]
  },
  {
   "cell_type": "markdown",
   "metadata": {},
   "source": [
    "Pour stocker une valeur correspondant à une clé "
   ]
  },
  {
   "cell_type": "code",
   "execution_count": 5,
   "metadata": {
    "ExecuteTime": {
     "end_time": "2024-10-08T14:22:26.485909Z",
     "start_time": "2024-10-08T14:22:26.482576Z"
    }
   },
   "outputs": [
    {
     "data": {
      "text/plain": [
       "True"
      ]
     },
     "execution_count": 5,
     "metadata": {},
     "output_type": "execute_result"
    }
   ],
   "source": [
    "KEY = \"name\"\n",
    "VALUE = \"yourname\"\n",
    "redis_client.set(KEY, VALUE)"
   ]
  },
  {
   "cell_type": "markdown",
   "metadata": {},
   "source": [
    "True montre que le stockage s'est bien déroulé. "
   ]
  },
  {
   "cell_type": "markdown",
   "metadata": {},
   "source": [
    "Pour récupérer la valeur stockée il suffit d'appeler la méthode `GET` sur cette clé"
   ]
  },
  {
   "cell_type": "code",
   "execution_count": 6,
   "metadata": {
    "ExecuteTime": {
     "end_time": "2024-10-08T14:22:35.472090Z",
     "start_time": "2024-10-08T14:22:35.468655Z"
    }
   },
   "outputs": [
    {
     "data": {
      "text/plain": [
       "b'yourname'"
      ]
     },
     "execution_count": 6,
     "metadata": {},
     "output_type": "execute_result"
    }
   ],
   "source": [
    "redis_client.get(KEY)"
   ]
  },
  {
   "cell_type": "markdown",
   "metadata": {},
   "source": [
    "Vous pouvez voir qu'à l'aide du `b` que la réponse n'est pas exactement ce que l'on a stocké, mais une représentation en bytes de notre chaine de charactères. "
   ]
  },
  {
   "cell_type": "code",
   "execution_count": 7,
   "metadata": {
    "ExecuteTime": {
     "end_time": "2024-10-08T14:23:00.750346Z",
     "start_time": "2024-10-08T14:23:00.706625Z"
    }
   },
   "outputs": [
    {
     "ename": "AssertionError",
     "evalue": "Les valeurs ne correspondent pas",
     "output_type": "error",
     "traceback": [
      "\u001b[1;31m---------------------------------------------------------------------------\u001b[0m",
      "\u001b[1;31mAssertionError\u001b[0m                            Traceback (most recent call last)",
      "Cell \u001b[1;32mIn[7], line 1\u001b[0m\n\u001b[1;32m----> 1\u001b[0m \u001b[38;5;28;01massert\u001b[39;00m redis_client\u001b[38;5;241m.\u001b[39mget(KEY) \u001b[38;5;241m==\u001b[39m VALUE, \u001b[38;5;124m\"\u001b[39m\u001b[38;5;124mLes valeurs ne correspondent pas\u001b[39m\u001b[38;5;124m\"\u001b[39m\n",
      "\u001b[1;31mAssertionError\u001b[0m: Les valeurs ne correspondent pas"
     ]
    }
   ],
   "source": [
    "assert redis_client.get(KEY) == VALUE, \"Les valeurs ne correspondent pas\""
   ]
  },
  {
   "cell_type": "markdown",
   "metadata": {},
   "source": [
    "Pour cela, en python, il faut appeler la méthode `decode()` pour transformer des bytes en string "
   ]
  },
  {
   "cell_type": "code",
   "execution_count": 8,
   "metadata": {
    "ExecuteTime": {
     "end_time": "2024-10-08T14:23:08.457857Z",
     "start_time": "2024-10-08T14:23:08.455091Z"
    }
   },
   "outputs": [],
   "source": [
    "assert redis_client.get(KEY).decode() == VALUE, \"les valeurs ne correspondent pas\""
   ]
  },
  {
   "cell_type": "markdown",
   "metadata": {},
   "source": [
    "On peut préciser au client de décoder les réponses et de les transformer directement en strings"
   ]
  },
  {
   "cell_type": "code",
   "execution_count": 9,
   "metadata": {
    "ExecuteTime": {
     "end_time": "2024-10-08T14:23:33.575670Z",
     "start_time": "2024-10-08T14:23:33.573531Z"
    }
   },
   "outputs": [],
   "source": [
    "redis_client = redis.StrictRedis(host='localhost', charset='utf-8', decode_responses=True)"
   ]
  },
  {
   "cell_type": "code",
   "execution_count": 10,
   "metadata": {
    "ExecuteTime": {
     "end_time": "2024-10-08T14:23:35.026675Z",
     "start_time": "2024-10-08T14:23:35.022571Z"
    }
   },
   "outputs": [],
   "source": [
    "assert redis_client.get(KEY) == VALUE"
   ]
  },
  {
   "cell_type": "markdown",
   "metadata": {},
   "source": [
    "Les valeurs peuvent aussi être des entiers"
   ]
  },
  {
   "cell_type": "code",
   "execution_count": 11,
   "metadata": {
    "ExecuteTime": {
     "end_time": "2024-10-08T14:23:38.689866Z",
     "start_time": "2024-10-08T14:23:38.685772Z"
    }
   },
   "outputs": [
    {
     "data": {
      "text/plain": [
       "True"
      ]
     },
     "execution_count": 11,
     "metadata": {},
     "output_type": "execute_result"
    }
   ],
   "source": [
    "KEY = \"age\"\n",
    "VALUE = 20\n",
    "\n",
    "redis_client.set(KEY, VALUE)"
   ]
  },
  {
   "cell_type": "code",
   "execution_count": 12,
   "metadata": {
    "ExecuteTime": {
     "end_time": "2024-10-08T14:23:39.466609Z",
     "start_time": "2024-10-08T14:23:39.463643Z"
    }
   },
   "outputs": [
    {
     "data": {
      "text/plain": [
       "'20'"
      ]
     },
     "execution_count": 12,
     "metadata": {},
     "output_type": "execute_result"
    }
   ],
   "source": [
    "redis_client.get(KEY)"
   ]
  },
  {
   "cell_type": "markdown",
   "metadata": {},
   "source": [
    "Vous pouvez alors utiliser la méthode `incr` pour incrémenter cet entier. Il faut faire attention puisque redis renvoie toujours les entiers comme des chaines de charactères."
   ]
  },
  {
   "cell_type": "code",
   "execution_count": 13,
   "metadata": {
    "ExecuteTime": {
     "end_time": "2024-10-08T14:23:53.508711Z",
     "start_time": "2024-10-08T14:23:53.504976Z"
    }
   },
   "outputs": [
    {
     "data": {
      "text/plain": [
       "21"
      ]
     },
     "execution_count": 13,
     "metadata": {},
     "output_type": "execute_result"
    }
   ],
   "source": [
    "redis_client.incr(KEY)"
   ]
  },
  {
   "cell_type": "markdown",
   "metadata": {},
   "source": [
    "## Exemple "
   ]
  },
  {
   "cell_type": "code",
   "execution_count": 14,
   "metadata": {
    "ExecuteTime": {
     "end_time": "2024-10-08T14:24:06.730061Z",
     "start_time": "2024-10-08T14:24:06.692781Z"
    }
   },
   "outputs": [],
   "source": [
    "from ipywidgets import widgets, interact\n",
    "from IPython.display import display"
   ]
  },
  {
   "cell_type": "code",
   "execution_count": 15,
   "metadata": {
    "ExecuteTime": {
     "end_time": "2024-10-08T14:24:17.378412Z",
     "start_time": "2024-10-08T14:24:17.374118Z"
    }
   },
   "outputs": [
    {
     "data": {
      "application/vnd.jupyter.widget-view+json": {
       "model_id": "232b95707ba24cd6a33266a9115ec0c3",
       "version_major": 2,
       "version_minor": 0
      },
      "text/plain": [
       "Button(description='Click me!', style=ButtonStyle())"
      ]
     },
     "metadata": {},
     "output_type": "display_data"
    },
    {
     "name": "stdout",
     "output_type": "stream",
     "text": [
      "Le bouton à été cliqué 1 fois\n",
      "Le bouton à été cliqué 2 fois\n",
      "Le bouton à été cliqué 3 fois\n"
     ]
    }
   ],
   "source": [
    "KEY = \"click_number\"\n",
    "DEFAULT_VALUE = 0\n",
    "\n",
    "redis_client.set(KEY, DEFAULT_VALUE)\n",
    "\n",
    "button = widgets.Button(description=\"Click me!\")\n",
    "def on_button_clicked(button):\n",
    "    redis_client.incr(KEY)\n",
    "    print(f\"Le bouton à été cliqué {redis_client.get(KEY)} fois\")\n",
    "    button.description = \"Click me more !\"\n",
    "    \n",
    "button.on_click(on_button_clicked)\n",
    "display(button)"
   ]
  },
  {
   "cell_type": "code",
   "execution_count": 18,
   "metadata": {
    "ExecuteTime": {
     "end_time": "2024-10-08T14:25:09.862648Z",
     "start_time": "2024-10-08T14:25:09.859155Z"
    }
   },
   "outputs": [
    {
     "name": "stdout",
     "output_type": "stream",
     "text": [
      "Tu as cliqué sur le bouton 3 fois !\n"
     ]
    }
   ],
   "source": [
    "print(f\"Tu as cliqué sur le bouton {redis_client.get(KEY)} fois !\")"
   ]
  },
  {
   "cell_type": "markdown",
   "metadata": {},
   "source": [
    "## Les Listes"
   ]
  },
  {
   "cell_type": "markdown",
   "metadata": {},
   "source": [
    "Redis permet aussi de stocker des valeurs de type `list`, pour cela nous avons à notre disposition un ensemble de méthodes :  \n",
    "\n",
    "- La méthode `LPUSH`  permet d'ajouter un élément en tête de list la complexité est de O(1).  \n",
    "- La méthode `RPUSH` permet d'ajouter un élément en queue de list la complexité est de O(1).  \n",
    "- La méthode `LINSERT` permet d'ajouter un élément avant ou après la première occurence d'une certaine valeur, la complexité est de O(N) à part pour le premier et le dernier élèment.\n",
    "- La méthode `LSET` permet de modifier la valeur correspondant à l'index spécifié, la complexité est de O(N) à part pour le premier et le dernier élèment.\n",
    "- La méthode `RPOP` permet de supprimer un élément en queue de list la complexité est de O(1).\n",
    "- La méthode `LPOP` permet de supprimer un élément en tête de list la complexité est de O(1).\n",
    "- La méthode `LINDEX` permet d'afficher un élément en fonction de son index.\n",
    "- La méthode `LREM` permet de supprimer un élément en fonction de son index.\n",
    "- La méthode `LLEN` permet de récupérer la taille d'une liste.\n",
    "\n",
    "Nous allons toutes les tester."
   ]
  },
  {
   "cell_type": "code",
   "execution_count": 19,
   "metadata": {
    "ExecuteTime": {
     "end_time": "2024-10-08T14:25:24.580006Z",
     "start_time": "2024-10-08T14:25:24.576496Z"
    }
   },
   "outputs": [
    {
     "data": {
      "text/plain": [
       "2"
      ]
     },
     "execution_count": 19,
     "metadata": {},
     "output_type": "execute_result"
    }
   ],
   "source": [
    "redis_client.lpush('language_list', \"kotlin\")\n",
    "redis_client.lpush('language_list', \"python\")"
   ]
  },
  {
   "cell_type": "markdown",
   "metadata": {},
   "source": [
    "On peut aussi ajouter plusieurs éléments en même temps dans une liste"
   ]
  },
  {
   "cell_type": "code",
   "execution_count": 20,
   "metadata": {
    "ExecuteTime": {
     "end_time": "2024-10-08T14:25:30.833029Z",
     "start_time": "2024-10-08T14:25:30.828682Z"
    }
   },
   "outputs": [
    {
     "data": {
      "text/plain": [
       "4"
      ]
     },
     "execution_count": 20,
     "metadata": {},
     "output_type": "execute_result"
    }
   ],
   "source": [
    "redis_client.lpush('language_list', \"java\", \"c++\")"
   ]
  },
  {
   "cell_type": "code",
   "execution_count": 21,
   "metadata": {
    "ExecuteTime": {
     "end_time": "2024-10-08T14:25:33.428530Z",
     "start_time": "2024-10-08T14:25:33.425132Z"
    }
   },
   "outputs": [
    {
     "data": {
      "text/plain": [
       "'La taille de la liste est 4'"
      ]
     },
     "execution_count": 21,
     "metadata": {},
     "output_type": "execute_result"
    }
   ],
   "source": [
    "f\"La taille de la liste est {redis_client.llen('language_list')}\""
   ]
  },
  {
   "cell_type": "code",
   "execution_count": 22,
   "metadata": {
    "ExecuteTime": {
     "end_time": "2024-10-08T14:26:04.902982Z",
     "start_time": "2024-10-08T14:26:04.899923Z"
    }
   },
   "outputs": [
    {
     "data": {
      "text/plain": [
       "\"L'élément à l'index 2 de la liste est 'python'\""
      ]
     },
     "execution_count": 22,
     "metadata": {},
     "output_type": "execute_result"
    }
   ],
   "source": [
    "INDEX = 2\n",
    "f\"L'élément à l'index {INDEX} de la liste est '{redis_client.lindex('language_list', INDEX)}'\""
   ]
  },
  {
   "cell_type": "markdown",
   "metadata": {},
   "source": [
    "Le client renvoie la taille de la liste venant d'être mise à jour. On peut afficher tous les éléments de la liste en les retirant un par un."
   ]
  },
  {
   "cell_type": "code",
   "execution_count": 23,
   "metadata": {
    "ExecuteTime": {
     "end_time": "2024-10-08T14:26:23.135832Z",
     "start_time": "2024-10-08T14:26:23.131279Z"
    },
    "scrolled": true
   },
   "outputs": [
    {
     "name": "stdout",
     "output_type": "stream",
     "text": [
      "c++\n",
      "java\n",
      "python\n",
      "kotlin\n"
     ]
    }
   ],
   "source": [
    "while(redis_client.llen('language_list')!=0):\n",
    "\n",
    "    print(redis_client.lpop('language_list'))"
   ]
  },
  {
   "cell_type": "markdown",
   "metadata": {},
   "source": [
    "## Les dictionnaires "
   ]
  },
  {
   "cell_type": "markdown",
   "metadata": {},
   "source": [
    "Redis permet de stocker assez facilement des dictionnaires, on peut comme cela stocker des structures de données plus complexes. Pour cela, nous avons plusieurs méthodes : \n",
    "\n",
    "- La méthode `HMSET` permet d'ajouter un dictionnaire à une clé\n",
    "- La méthode `HSET` permet d'ajouter ou de modifier la valeur d'une clé d'un dictionnaire\n",
    "- La méthode `HGET` permet d'ajouter ou de modifier la valeur d'une clé d'un dictionnaire\n",
    "- La méthode `HGETALL` permet de récupérer toutes les clés valeurs d'un dictionnaire.\n",
    "- La méthode `HKEYS` permet de récupérer toutes les clés d'un dictionnaire\n",
    "- La méthode `HVALS` permet de récupérer toutes les valeurs d'un dictionnaire"
   ]
  },
  {
   "cell_type": "code",
   "execution_count": 24,
   "metadata": {
    "ExecuteTime": {
     "end_time": "2024-10-08T14:29:02.463769Z",
     "start_time": "2024-10-08T14:29:02.461462Z"
    }
   },
   "outputs": [],
   "source": [
    "doc = {\n",
    "    \"name\":\"yourname\",\n",
    "    \"age\":20,\n",
    "    \"city\":\"paris\"\n",
    "}"
   ]
  },
  {
   "cell_type": "code",
   "execution_count": 25,
   "metadata": {
    "ExecuteTime": {
     "end_time": "2024-10-08T14:29:03.124803Z",
     "start_time": "2024-10-08T14:29:03.122063Z"
    }
   },
   "outputs": [
    {
     "data": {
      "text/plain": [
       "3"
      ]
     },
     "execution_count": 25,
     "metadata": {},
     "output_type": "execute_result"
    }
   ],
   "source": [
    "redis_client.hset(\"user1\", mapping=doc)"
   ]
  },
  {
   "cell_type": "code",
   "execution_count": 26,
   "metadata": {
    "ExecuteTime": {
     "end_time": "2024-10-08T14:29:04.561229Z",
     "start_time": "2024-10-08T14:29:04.558137Z"
    }
   },
   "outputs": [
    {
     "data": {
      "text/plain": [
       "{'name': 'yourname', 'age': '20', 'city': 'paris'}"
      ]
     },
     "execution_count": 26,
     "metadata": {},
     "output_type": "execute_result"
    }
   ],
   "source": [
    "redis_client.hgetall(\"user1\")"
   ]
  },
  {
   "cell_type": "markdown",
   "metadata": {},
   "source": [
    "On peut modifier uniquement une clé du dictionnaire"
   ]
  },
  {
   "cell_type": "code",
   "execution_count": 27,
   "metadata": {
    "ExecuteTime": {
     "end_time": "2024-10-08T14:29:08.113030Z",
     "start_time": "2024-10-08T14:29:08.108325Z"
    }
   },
   "outputs": [
    {
     "data": {
      "text/plain": [
       "0"
      ]
     },
     "execution_count": 27,
     "metadata": {},
     "output_type": "execute_result"
    }
   ],
   "source": [
    "redis_client.hset(\"user1\", \"city\", \"lyon\")"
   ]
  },
  {
   "cell_type": "code",
   "execution_count": 28,
   "metadata": {
    "ExecuteTime": {
     "end_time": "2024-10-08T14:29:09.254781Z",
     "start_time": "2024-10-08T14:29:09.250661Z"
    }
   },
   "outputs": [
    {
     "data": {
      "text/plain": [
       "{'name': 'yourname', 'age': '20', 'city': 'lyon'}"
      ]
     },
     "execution_count": 28,
     "metadata": {},
     "output_type": "execute_result"
    }
   ],
   "source": [
    "redis_client.hgetall(\"user1\")"
   ]
  },
  {
   "cell_type": "markdown",
   "metadata": {},
   "source": [
    "## Les pipelines"
   ]
  },
  {
   "cell_type": "code",
   "execution_count": 29,
   "metadata": {
    "ExecuteTime": {
     "end_time": "2024-10-08T14:29:12.406565Z",
     "start_time": "2024-10-08T14:29:12.404886Z"
    }
   },
   "outputs": [],
   "source": [
    "import timeit"
   ]
  },
  {
   "cell_type": "markdown",
   "metadata": {},
   "source": [
    "Lorsque l'on appelle une méthode depuis le client python, chaqu'une d'entre elles fait un appel à Redis, ce qui peut prendre du temps. Les pipelines permettent de réduire ce temps en stockant toutes les opérations et en les applicant une seule fois sur la base. Cela permet d'augmenter grandement les performances en réduisant les appels et le passage par le réseau. "
   ]
  },
  {
   "cell_type": "code",
   "execution_count": 30,
   "metadata": {
    "ExecuteTime": {
     "end_time": "2024-10-08T14:29:46.945136Z",
     "start_time": "2024-10-08T14:29:46.943065Z"
    }
   },
   "outputs": [],
   "source": [
    "N = 10000"
   ]
  },
  {
   "cell_type": "code",
   "execution_count": 31,
   "metadata": {
    "ExecuteTime": {
     "end_time": "2024-10-08T14:29:58.662507Z",
     "start_time": "2024-10-08T14:29:58.660372Z"
    }
   },
   "outputs": [],
   "source": [
    "def store_key_values(N):\n",
    "    for i in range(N):\n",
    "        redis_client.set(f\"key_{i}\", f\"value_{i}\")"
   ]
  },
  {
   "cell_type": "code",
   "execution_count": 32,
   "metadata": {
    "ExecuteTime": {
     "end_time": "2024-10-08T14:30:13.679615Z",
     "start_time": "2024-10-08T14:30:04.092793Z"
    }
   },
   "outputs": [
    {
     "name": "stdout",
     "output_type": "stream",
     "text": [
      "6.02 s ± 563 ms per loop (mean ± std. dev. of 7 runs, 1 loop each)\n"
     ]
    }
   ],
   "source": [
    "%%timeit\n",
    "store_key_values(N=N)"
   ]
  },
  {
   "cell_type": "code",
   "execution_count": 33,
   "metadata": {
    "ExecuteTime": {
     "end_time": "2024-10-08T14:30:29.039965Z",
     "start_time": "2024-10-08T14:30:29.037999Z"
    }
   },
   "outputs": [],
   "source": [
    "def store_key_values_with_pipelines(N):\n",
    "    p = redis_client.pipeline()\n",
    "    for i in range(N):\n",
    "        p.set(f\"key_{i}\", f\"value_{i}\")"
   ]
  },
  {
   "cell_type": "code",
   "execution_count": 34,
   "metadata": {
    "ExecuteTime": {
     "end_time": "2024-10-08T14:30:33.644540Z",
     "start_time": "2024-10-08T14:30:30.191686Z"
    }
   },
   "outputs": [
    {
     "name": "stdout",
     "output_type": "stream",
     "text": [
      "13 ms ± 325 μs per loop (mean ± std. dev. of 7 runs, 100 loops each)\n"
     ]
    }
   ],
   "source": [
    "%%timeit\n",
    "store_key_values_with_pipelines(N=N)"
   ]
  },
  {
   "cell_type": "markdown",
   "metadata": {},
   "source": [
    "On voit alors que l'on peut diviser le temps par 100. Dans vos différents métiers les performances sont souvent très importantes"
   ]
  },
  {
   "cell_type": "markdown",
   "metadata": {},
   "source": [
    "# Exercice"
   ]
  },
  {
   "cell_type": "markdown",
   "metadata": {},
   "source": [
    "Utiliser redis pour gérer les commandes d'un restaurant de burgers, pour simplifier les choses les clients pourront choisir leurs ingrédients dans 3 types de produits :\n",
    "\n",
    "- Pain: blanc, complet, aux céréales\n",
    "- Garniture : salade, tomates , oignons, concombres\n",
    "- Protéines : poulet, boeuf, agneau, tofu\n",
    "\n",
    "Chaque ingrédient équivaut à un prix et un poids, avec chaque commande, vous devrez calculer le poids et le prix que les clients devront régler. \n",
    "\n",
    "1) Stocker les informations concernant les ingrédients dans redis   \n",
    "2) Créer la méthode permettant de créer aléatoirement un burger  \n",
    "3) Créer la méthode qui permet d'empiler dans redis les prochaines commandes (Réfléchir au type de données utilisé)  \n",
    "4) Créer la méthode permettant de calculer le poids et le prix du burger  \n",
    "5) Créer une boucle pour dépiler, réaliser et servir les burgers.  \n",
    "\n",
    "Pour vous aider voici quelques données "
   ]
  },
  {
   "cell_type": "code",
   "execution_count": 35,
   "metadata": {
    "ExecuteTime": {
     "end_time": "2024-10-08T14:31:36.437084Z",
     "start_time": "2024-10-08T14:31:36.434661Z"
    }
   },
   "outputs": [],
   "source": [
    "pains = {\n",
    "    \"blanc\":{\n",
    "        \"poid\":100,\n",
    "        \"prix\": 2\n",
    "    },\n",
    "    \"complet\":{\n",
    "        \"poid\":90,\n",
    "        \"prix\": 3\n",
    "    },\n",
    "    \"cereales\":{\n",
    "        \"poid\":120,\n",
    "        \"prix\": 4\n",
    "    }\n",
    "}"
   ]
  },
  {
   "cell_type": "code",
   "execution_count": 36,
   "metadata": {
    "ExecuteTime": {
     "end_time": "2024-10-08T14:31:37.009022Z",
     "start_time": "2024-10-08T14:31:37.006647Z"
    }
   },
   "outputs": [],
   "source": [
    "garniture = {\n",
    "    \"salade\":{\n",
    "        \"poid\":50,\n",
    "        \"prix\": 1\n",
    "    }, \"tomates\":{\n",
    "        \"poid\":60,\n",
    "        \"prix\": 2\n",
    "    } , \"oignons\":{\n",
    "        \"poid\":10,\n",
    "        \"prix\": 1.5\n",
    "    }, \"concombres\":{\n",
    "        \"poid\":30,\n",
    "        \"prix\": 3\n",
    "    }\n",
    "}"
   ]
  },
  {
   "cell_type": "code",
   "execution_count": 37,
   "metadata": {
    "ExecuteTime": {
     "end_time": "2024-10-08T14:31:37.761895Z",
     "start_time": "2024-10-08T14:31:37.759333Z"
    }
   },
   "outputs": [],
   "source": [
    "proteine = {\n",
    "    \"poulet\":{\n",
    "        \"poid\":100,\n",
    "        \"prix\": 6\n",
    "    }, \"boeuf\":{\n",
    "        \"poid\":150,\n",
    "        \"prix\": 5\n",
    "    } , \"agneau\":{\n",
    "        \"poid\":120,\n",
    "        \"prix\": 7\n",
    "    }, \"tofu\":{\n",
    "        \"poid\":80,\n",
    "        \"prix\": 8\n",
    "    }\n",
    "}"
   ]
  },
  {
   "cell_type": "code",
   "execution_count": 38,
   "metadata": {
    "ExecuteTime": {
     "end_time": "2024-10-08T14:31:43.963024Z",
     "start_time": "2024-10-08T14:31:43.960804Z"
    }
   },
   "outputs": [],
   "source": [
    "import random\n",
    "def store_ingredients():\n",
    "    redis_client.hset(\"ingredients:pains\", mapping=pains)\n",
    "    redis_client.hset(\"ingredients:garniture\", mapping=garniture)\n",
    "    redis_client.hset(\"ingredients:proteine\", mapping=proteine)\n",
    "    print(\"Ingrédients stockées dans redis\")\n",
    "\n",
    "def make_burger():\n",
    "    pain_choice = random.choice(list(pains.keys()))\n",
    "    garnitures_choice = random.sample(list(garniture.keys()), k=random.randint(1,3))\n",
    "    proteine_choice = random.choice(list(proteine.keys()))\n",
    "    return{\"pain\":pain_choice, \"garniture\":garnitures_choice, \"proteine\":proteine_choice}\n",
    "\n",
    "def make_order():\n",
    "    burger = make_burger()\n",
    "    redis_client.lpush(\"orders\", str(burger))\n",
    "    print(\"Commende ajoutée : {burger}\")\n",
    "\n",
    "def get_next_order():\n",
    "    pass\n",
    "\n",
    "def process_price_weight(burger):\n",
    "    total_poid = pains[burger[\"pain\"]][\"poid\"]\n",
    "    total_prix = pains[burger[\"pain\"]][\"prix\"]\n",
    "    \n",
    "    for garn in burger[\"garniture\"]:\n",
    "        total_poid += garniture[garn][\"poid\"]\n",
    "        total_prix += garniture[garn][\"prix\"]\n",
    "    \n",
    "    total_poid += proteine[burger[\"proteine\"]][\"poid\"]\n",
    "    total_prix += proteine[burger[\"proteine\"]][\"prix\"]\n",
    "    \n",
    "    return total_prix, total_poid\n",
    "\n",
    "def process_burger():\n",
    "    if redis_client.llen(\"orders\") > 0:\n",
    "        # Récupérer et supprimer la prochaine commande\n",
    "        order = redis_client.rpop(\"orders\")\n",
    "        burger = eval(order)  # Convertir la chaîne en dict\n",
    "        \n",
    "        # Calculer le poids et le prix\n",
    "        prix, poid = process_price_weight(burger)\n",
    "        \n",
    "        # Retourner les informations du burger\n",
    "        return burger, prix, poid\n",
    "    else:\n",
    "        # Plus de commandes à traiter\n",
    "        return None, None, None"
   ]
  },
  {
   "cell_type": "code",
   "execution_count": 41,
   "metadata": {
    "ExecuteTime": {
     "end_time": "2024-10-08T14:31:49.226935Z",
     "start_time": "2024-10-08T14:31:49.224579Z"
    }
   },
   "outputs": [
    {
     "name": "stdout",
     "output_type": "stream",
     "text": [
      "Commende ajoutée : {burger}\n",
      "Le burger {'pain': 'complet', 'garniture': ['oignons', 'concombres'], 'proteine': 'poulet'} de 230 gr à été préparé et servi il faut régler 13.5€\n"
     ]
    }
   ],
   "source": [
    "while True:\n",
    "    #store_ingredients()\n",
    "    make_order()\n",
    "    burger, price, weight = process_burger()\n",
    "    print(f'Le burger {burger} de {weight} gr à été préparé et servi il faut régler {price}€')\n",
    "    break"
   ]
  },
  {
   "cell_type": "code",
   "execution_count": null,
   "metadata": {},
   "outputs": [],
   "source": []
  },
  {
   "cell_type": "code",
   "execution_count": null,
   "metadata": {},
   "outputs": [],
   "source": []
  }
 ],
 "metadata": {
  "kernelspec": {
   "display_name": "DataEngineer-zYNjzrUG",
   "language": "python",
   "name": "python3"
  },
  "language_info": {
   "codemirror_mode": {
    "name": "ipython",
    "version": 3
   },
   "file_extension": ".py",
   "mimetype": "text/x-python",
   "name": "python",
   "nbconvert_exporter": "python",
   "pygments_lexer": "ipython3",
   "version": "3.13.0"
  },
  "varInspector": {
   "cols": {
    "lenName": 16,
    "lenType": 16,
    "lenVar": 40
   },
   "kernels_config": {
    "python": {
     "delete_cmd_postfix": "",
     "delete_cmd_prefix": "del ",
     "library": "var_list.py",
     "varRefreshCmd": "print(var_dic_list())"
    },
    "r": {
     "delete_cmd_postfix": ") ",
     "delete_cmd_prefix": "rm(",
     "library": "var_list.r",
     "varRefreshCmd": "cat(var_dic_list()) "
    }
   },
   "types_to_exclude": [
    "module",
    "function",
    "builtin_function_or_method",
    "instance",
    "_Feature"
   ],
   "window_display": false
  }
 },
 "nbformat": 4,
 "nbformat_minor": 2
}
